{
 "cells": [
  {
   "cell_type": "code",
   "execution_count": null,
   "metadata": {
    "collapsed": true
   },
   "outputs": [],
   "source": [
    "import pandas as pd\n",
    "import matplotlib.pyplot as plt\n",
    "import seaborn as sns\n",
    "from sklearn.preprocessing import LabelEncoder, OneHotEncoder\n",
    "from sklearn.cluster import KMeans"
   ]
  },
  {
   "cell_type": "code",
   "execution_count": null,
   "outputs": [],
   "source": [
    "data = pd.read_csv('../data/Mall_Customers.csv', index_col=0)\n",
    "data.head()"
   ],
   "metadata": {
    "collapsed": false,
    "pycharm": {
     "name": "#%%\n"
    }
   }
  },
  {
   "cell_type": "code",
   "execution_count": null,
   "outputs": [],
   "source": [
    "data.columns\n",
    "plt.figure(figsize=(12,9))\n",
    "s = sns.heatmap(data.corr(), annot=True, cmap='RdBu', vmin=-1, vmax=1)\n",
    "s.set_yticklabels(s.get_yticklabels(), rotation = 0, fontsize=12)\n",
    "s.set_xticklabels(s.get_xticklabels(), rotation = 90, fontsize=12)\n",
    "plt.title('Correlation Matrix')\n",
    "plt.show()"
   ],
   "metadata": {
    "collapsed": false,
    "pycharm": {
     "name": "#%%\n"
    }
   }
  },
  {
   "cell_type": "code",
   "execution_count": null,
   "outputs": [],
   "source": [
    "inertias = []\n",
    "\n",
    "cluster_ranges = range(1,15)\n",
    "for k in cluster_ranges:\n",
    "    model = KMeans(n_clusters=k)\n",
    "    model.fit(data.drop(['Gender'], axis=1))\n",
    "    inertias.append(model.inertia_)\n",
    "\n",
    "\n",
    "fig1, ax = plt.subplots(figsize=(16,9))\n",
    "fig1.suptitle('Elbow Diagram', fontsize=24)\n",
    "plt.plot(cluster_ranges,inertias, 'bx-')\n",
    "plt.show()\n",
    "fig1.savefig('./plots/elbow_diagram.jpg')\n",
    "\n",
    "\n",
    "\n",
    "\n",
    "# plt.figure(figsize=(16,8))\n",
    "# plt.title('Elbow Method', fontsize=24, color='white')\n",
    "# plt.show()\n",
    "# plt.savefig('./elb-diagram.jpg')"
   ],
   "metadata": {
    "collapsed": false,
    "pycharm": {
     "name": "#%%\n"
    }
   }
  },
  {
   "cell_type": "code",
   "execution_count": null,
   "outputs": [],
   "source": [
    "kmeans = KMeans(n_clusters=5)\n",
    "kmeans.fit(data.drop(['Gender'], axis=1))\n",
    "data['Cluster'] = kmeans.predict(data.drop(['Gender'], axis=1))"
   ],
   "metadata": {
    "collapsed": false,
    "pycharm": {
     "name": "#%%\n"
    }
   }
  },
  {
   "cell_type": "code",
   "execution_count": null,
   "outputs": [],
   "source": [
    "plt.figure(figsize=(16,9))\n",
    "fig, ax = plt.subplots()\n",
    "scatter = plt.scatter(x=data['Annual Income (k$)'], y=data['Spending Score (1-100)'], c=data['Cluster'], cmap='rainbow')\n",
    "legend1 = ax.legend(ers')\n",
    "ax.add_artist(legend1)\n",
    "# scatter.title('Customer Segments', fontsize=15)\n",
    "# scatter.xlabel('Annual Income (k$)', fontsize=12)\n",
    "# scatter.ylabel('Spending Score (1-100)', fontsize=12)\n",
    "plt.show()\n"
   ],
   "metadata": {
    "collapsed": false,
    "pycharm": {
     "name": "#%%\n"
    }
   }
  },
  {
   "cell_type": "code",
   "execution_count": null,
   "metadata": {},
   "outputs": [],
   "source": [
    "data_cluster = data[data['Cluster'] == 3]\n",
    "plt.figure(figsize=(16,9))\n",
    "fig, ax = plt.subplots()\n",
    "scatter = plt.scatter(x=data_cluster['Annual Income (k$)'], y=data_cluster['Spending Score (1-100)'], c=data_cluster['Cluster'], cmap='rainbow')\n",
    "legend1 = ax.legend(*scatter.legend_elements(), loc='best', title='Clusters')\n",
    "ax.add_artist(legend1)\n",
    "# scatter.title('Customer Segments', fontsize=15)\n",
    "# scatter.xlabel('Annual Income (k$)', fontsize=12)\n",
    "# scatter.ylabel('Spending Score (1-100)', fontsize=12)\n",
    "plt.show()\n"
   ]
  },
  {
   "cell_type": "code",
   "execution_count": null,
   "metadata": {},
   "outputs": [],
   "source": [
    "cluster_mapping = {0: 'Potential Loyalist', 1: 'Loyalist', 2: 'Reasonable', 3: 'Satisfied', 4: 'Need Attention'}"
   ]
  },
  {
   "cell_type": "code",
   "execution_count": null,
   "metadata": {},
   "outputs": [],
   "source": [
    "test_la = data['Cluster']\n",
    "cluster_labels = []\n",
    "for i in test_la:\n",
    "    cluster_labels.append(cluster_mapping.get(i))\n",
    "data['Cluster Labels'] = cluster_labels"
   ]
  },
  {
   "cell_type": "code",
   "execution_count": null,
   "metadata": {},
   "outputs": [],
   "source": [
    "data"
   ]
  },
  {
   "cell_type": "code",
   "execution_count": null,
   "metadata": {},
   "outputs": [],
   "source": [
    "info = data.groupby(['Cluster']).count()"
   ]
  },
  {
   "cell_type": "code",
   "execution_count": null,
   "metadata": {},
   "outputs": [],
   "source": [
    "dict(info['Age'])"
   ]
  },
  {
   "cell_type": "code",
   "execution_count": null,
   "metadata": {},
   "outputs": [],
   "source": [
    "for k in info['Age']:\n",
    "    print(int(k))"
   ]
  },
  {
   "cell_type": "code",
   "execution_count": null,
   "metadata": {},
   "outputs": [],
   "source": [
    "\n",
    "obj"
   ]
  },
  {
   "cell_type": "code",
   "execution_count": null,
   "metadata": {},
   "outputs": [],
   "source": []
  },
  {
   "cell_type": "code",
   "execution_count": null,
   "metadata": {},
   "outputs": [],
   "source": [
    "plt.hist(data['Spending Score (1-100)'])\n",
    "plt.xlabel('Spending score')\n",
    "plt.show()"
   ]
  },
  {
   "cell_type": "code",
   "execution_count": null,
   "metadata": {},
   "outputs": [],
   "source": [
    "plt.hist(data['Gender'])\n",
    "plt.show()"
   ]
  },
  {
   "cell_type": "code",
   "execution_count": null,
   "metadata": {},
   "outputs": [],
   "source": [
    "plt.plot(data['Annual Income (k$)'])\n",
    "plt.show()"
   ]
  },
  {
   "cell_type": "code",
   "execution_count": null,
   "metadata": {},
   "outputs": [],
   "source": [
    "plt.bar(data['Gender'],data['Age'])\n",
    "plt.show()"
   ]
  },
  {
   "cell_type": "code",
   "execution_count": null,
   "metadata": {},
   "outputs": [],
   "source": [
    "plt.bar(data['Gender'],data['Annual Income (k$)'])\n",
    "plt.show()"
   ]
  },
  {
   "cell_type": "code",
   "execution_count": null,
   "metadata": {},
   "outputs": [],
   "source": [
    "plt.bar(data['Gender'],data['Spending Score (1-100)'])\n",
    "plt.show()"
   ]
  },
  {
   "cell_type": "code",
   "execution_count": null,
   "metadata": {},
   "outputs": [],
   "source": []
  },
  {
   "cell_type": "code",
   "execution_count": null,
   "metadata": {},
   "outputs": [],
   "source": [
    "cluster_mapping = {0: 'Potential Loyalist', 1: 'Loyalist', 2: 'Reasonable', 3: 'Satisfied', 4: 'Need Attention'}\n",
    "\n",
    "\n",
    "plt.figure(figsize=(16,9))\n",
    "fig, ax = plt.subplots()\n",
    "scatter = plt.scatter(x=data['Annual Income (k$)'], y=data['Spending Score (1-100)'], c=data['Cluster'], cmap='rainbow')\n",
    "plt.xlabel('Annual Income (k$)')\n",
    "plt.ylabel('Spending Score (1-100)')\n",
    "plt.title('Customer Cluster', fontsize=24)\n",
    "\n",
    "\n",
    "legend1 = ax.legend(handles=scatter.legend_elements()[0], labels=['Potential Loyalist', 'Loyalist', 'Reasonable', 'Satisfied', 'Need Attention'], loc='best', title='Clusters')\n",
    "ax.add_artist(legend1)\n",
    "\n",
    "plt.show()\n",
    "print(scatter.legend_elements()[1][1])"
   ]
  },
  {
   "cell_type": "code",
   "execution_count": null,
   "metadata": {},
   "outputs": [],
   "source": []
  },
  {
   "cell_type": "code",
   "execution_count": null,
   "metadata": {},
   "outputs": [],
   "source": []
  },
  {
   "cell_type": "code",
   "execution_count": null,
   "metadata": {},
   "outputs": [],
   "source": []
  },
  {
   "cell_type": "code",
   "execution_count": null,
   "metadata": {},
   "outputs": [],
   "source": [
    "fig, ax = plt.subplots(2, 3, figsize=(16,9))\n",
    "fig.suptitle('Data Visualization', fontsize=24)\n",
    "plt.subplots_adjust(hspace = .3)\n",
    "ax[0,0].set_title('Spending Score')\n",
    "ax[0,0].set_ylabel('Count')\n",
    "ax[0,0].set_xlabel('Annual Income')\n",
    "ax[0,0].hist(data['Spending Score (1-100)'])\n",
    "\n",
    "ax[0,1].set_title('Gender')\n",
    "ax[0,1].set_ylabel('Count')\n",
    "ax[0,1].set_xlabel('Gender')\n",
    "ax[0,1].hist(data['Gender'])\n",
    "\n",
    "ax[0,2].set_title('Annual Income')\n",
    "ax[0,2].set_ylabel('Count')\n",
    "ax[0,2].set_xlabel('Annual Income')\n",
    "ax[0,2].plot(data['Annual Income (k$)'], 'tab:orange')\n",
    "\n",
    "ax[1,0].set_title('Age Against Gender')\n",
    "ax[1,0].set_xlabel('Gender')\n",
    "ax[1,0].set_ylabel('Age')\n",
    "ax[1,0].bar(data['Gender'],data['Age'])\n",
    "\n",
    "ax[1,1].set_title('Annual Income Against Gender')\n",
    "ax[1,1].set_ylabel('Annual Income')\n",
    "ax[1,1].set_xlabel('Gender')\n",
    "ax[1,1].bar(data['Gender'],data['Annual Income (k$)'])\n",
    "\n",
    "ax[1,2].set_title('Spending Score Against Gender')\n",
    "ax[1,2].set_ylabel('Spending Score')\n",
    "ax[1,2].set_xlabel('Gender')\n",
    "ax[1,2].bar(data['Gender'],data['Spending Score (1-100)'])\n",
    "\n",
    "plt.show()\n",
    "fig.savefig('./plots/data_visualization.jpg')\n",
    "\n",
    "\n",
    "fig1, ax = plt.subplots(figsize=(16,9))\n",
    "fig1.suptitle('Cluster Visualization', fontsize=24)\n",
    "scatter = ax.scatter(x=data['Annual Income (k$)'], y=data['Spending Score (1-100)'], c=data['Cluster'], cmap='rainbow')\n",
    "legend1 = ax.legend(handles=scatter.legend_elements()[0], labels=['Potential Loyalist', 'Loyalist', 'Reasonable', 'Satisfied', 'Need Attention'], loc='best', title='Clusters')\n",
    "ax.add_artist(legend1)\n",
    "plt.xlabel('x_axis')\n",
    "plt.ylabel('y_axis')\n",
    "ax.add_artist(legend1)\n",
    "plt.show()\n",
    "fig1.savefig('./plots/clusters_visualization.jpg')\n"
   ]
  },
  {
   "cell_type": "code",
   "execution_count": null,
   "metadata": {},
   "outputs": [],
   "source": []
  },
  {
   "cell_type": "code",
   "execution_count": null,
   "metadata": {},
   "outputs": [],
   "source": []
  },
  {
   "cell_type": "code",
   "execution_count": null,
   "metadata": {},
   "outputs": [],
   "source": []
  },
  {
   "cell_type": "code",
   "execution_count": null,
   "metadata": {},
   "outputs": [],
   "source": []
  },
  {
   "cell_type": "code",
   "execution_count": null,
   "metadata": {},
   "outputs": [],
   "source": []
  }
 ],
 "metadata": {
  "kernelspec": {
   "name": "python3",
   "display_name": "Python 3.8.5 64-bit ('base': conda)"
  },
  "language_info": {
   "codemirror_mode": {
    "name": "ipython",
    "version": 2
   },
   "file_extension": ".py",
   "mimetype": "text/x-python",
   "name": "python",
   "nbconvert_exporter": "python",
   "pygments_lexer": "ipython2",
   "version": "3.8.5"
  },
  "interpreter": {
   "hash": "09b73bda64f675c3a91bef090af289c3700a6e3a49c44ad64f57078cebbe1f7b"
  }
 },
 "nbformat": 4,
 "nbformat_minor": 0
}